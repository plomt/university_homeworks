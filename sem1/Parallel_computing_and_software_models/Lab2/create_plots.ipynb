{
 "cells": [
  {
   "cell_type": "code",
   "execution_count": 18,
   "id": "downtown-following",
   "metadata": {},
   "outputs": [],
   "source": [
    "import pandas as pd\n",
    "import numpy as np\n",
    "import matplotlib.pyplot as plt\n",
    "from tqdm import tqdm\n",
    "import warnings\n",
    "warnings.filterwarnings('ignore')"
   ]
  },
  {
   "cell_type": "markdown",
   "source": [
    "Lab1"
   ],
   "metadata": {
    "collapsed": false
   }
  },
  {
   "cell_type": "code",
   "execution_count": 19,
   "outputs": [],
   "source": [
    "def parse_log(text: str) -> pd.DataFrame:\n",
    "    columns = [\"Size\", \"withoutParallel\", \"time1\", \"withInstrinsics\", \"time2\", \"withVectorExtensions\", \"time3\"]\n",
    "    df = pd.DataFrame(columns=columns)\n",
    "\n",
    "    start = 0; end = 7\n",
    "    for i in tqdm(range(0,len(text),7)):\n",
    "        batch_data = []\n",
    "        for line in text[start + i: end + i]:\n",
    "            data = line.split(\" \")[2].strip()\n",
    "            batch_data.append(data)\n",
    "        tmp_df = pd.DataFrame([batch_data], columns=columns)\n",
    "        df = df.append(tmp_df, ignore_index=True)\n",
    "\n",
    "    df['time1'] = df['time1'].astype('int')\n",
    "    df['time2'] = df['time2'].astype('int')\n",
    "    df['time3'] = df['time3'].astype('int')\n",
    "    return df\n",
    "\n",
    "def moving_average(interval: list, windowsize: int):\n",
    "    window = np.ones(int(windowsize)) / float(windowsize)\n",
    "    new = np.convolve(interval, window, 'same')\n",
    "    return new\n",
    "\n",
    "def get_plot(df: pd.DataFrame, path_to_save_figure: str = None, w: int = 3) -> None:\n",
    "    plt.figure(figsize=(20, 20), dpi=80)\n",
    "\n",
    "    start_xtick = int(df['Size'].values[0])\n",
    "    end_xtick = int(df['Size'].values[-1])\n",
    "\n",
    "    plt.plot(df['Size'], moving_average(df['time1'], w), label = \"withoutParallel\", linestyle=\"-\")\n",
    "    plt.plot(df['Size'], moving_average(df['time2'], w), label = \"withInstrinsics\", linestyle=\"-\")\n",
    "    plt.plot(df['Size'], moving_average(df['time3'], w), label = \"withVectorExtensions\", linestyle=\"-\")\n",
    "    plt.xticks(np.arange(start_xtick, end_xtick, step=20))\n",
    "    plt.legend()\n",
    "    plt.title(\"Зависимость числа тактов при расчете длины разности векторов от длины вектора\")\n",
    "    plt.xlabel(\"Длина вектора\")\n",
    "    plt.ylabel(\"Число тактов (__rdtsc)\")\n",
    "    plt.grid()\n",
    "    plt.savefig(path_to_save_figure)\n",
    "\n",
    "def main(path_to_logger: str, path_to_save_figure: str) -> None:\n",
    "    with open(path_to_logger, \"r\") as file:\n",
    "        text = file.readlines()\n",
    "    df = parse_log(text)\n",
    "    get_plot(df=df, path_to_save_figure=path_to_save_figure)"
   ],
   "metadata": {
    "collapsed": false
   }
  },
  {
   "cell_type": "code",
   "execution_count": 20,
   "outputs": [
    {
     "ename": "FileNotFoundError",
     "evalue": "[Errno 2] No such file or directory: '/home/pavel/dev/university_homeworks/university_homeworks/sem1/Parallel_computing_and_software_models/logger0'",
     "output_type": "error",
     "traceback": [
      "\u001B[0;31m---------------------------------------------------------------------------\u001B[0m",
      "\u001B[0;31mFileNotFoundError\u001B[0m                         Traceback (most recent call last)",
      "Cell \u001B[0;32mIn [20], line 4\u001B[0m\n\u001B[1;32m      1\u001B[0m BASE_DIR \u001B[38;5;241m=\u001B[39m \u001B[38;5;124m\"\u001B[39m\u001B[38;5;124m/home/pavel/dev/university_homeworks/university_homeworks/sem1/Parallel_computing_and_software_models/\u001B[39m\u001B[38;5;124m\"\u001B[39m\n\u001B[1;32m      3\u001B[0m \u001B[38;5;28;01mfor\u001B[39;00m i \u001B[38;5;129;01min\u001B[39;00m \u001B[38;5;28mrange\u001B[39m(\u001B[38;5;241m0\u001B[39m, \u001B[38;5;241m4\u001B[39m):\n\u001B[0;32m----> 4\u001B[0m     \u001B[43mmain\u001B[49m\u001B[43m(\u001B[49m\u001B[43mBASE_DIR\u001B[49m\u001B[43m \u001B[49m\u001B[38;5;241;43m+\u001B[39;49m\u001B[43m \u001B[49m\u001B[38;5;124;43mf\u001B[39;49m\u001B[38;5;124;43m\"\u001B[39;49m\u001B[38;5;124;43mlogger\u001B[39;49m\u001B[38;5;132;43;01m{\u001B[39;49;00m\u001B[43mi\u001B[49m\u001B[38;5;132;43;01m}\u001B[39;49;00m\u001B[38;5;124;43m\"\u001B[39;49m\u001B[43m,\u001B[49m\u001B[43m \u001B[49m\u001B[43mBASE_DIR\u001B[49m\u001B[43m \u001B[49m\u001B[38;5;241;43m+\u001B[39;49m\u001B[43m \u001B[49m\u001B[38;5;124;43mf\u001B[39;49m\u001B[38;5;124;43m\"\u001B[39;49m\u001B[38;5;124;43mplots/plot\u001B[39;49m\u001B[38;5;132;43;01m{\u001B[39;49;00m\u001B[43mi\u001B[49m\u001B[38;5;132;43;01m}\u001B[39;49;00m\u001B[38;5;124;43m.png\u001B[39;49m\u001B[38;5;124;43m\"\u001B[39;49m\u001B[43m)\u001B[49m\n",
      "Cell \u001B[0;32mIn [19], line 42\u001B[0m, in \u001B[0;36mmain\u001B[0;34m(path_to_logger, path_to_save_figure)\u001B[0m\n\u001B[1;32m     41\u001B[0m \u001B[38;5;28;01mdef\u001B[39;00m \u001B[38;5;21mmain\u001B[39m(path_to_logger: \u001B[38;5;28mstr\u001B[39m, path_to_save_figure: \u001B[38;5;28mstr\u001B[39m) \u001B[38;5;241m-\u001B[39m\u001B[38;5;241m>\u001B[39m \u001B[38;5;28;01mNone\u001B[39;00m:\n\u001B[0;32m---> 42\u001B[0m     \u001B[38;5;28;01mwith\u001B[39;00m \u001B[38;5;28;43mopen\u001B[39;49m\u001B[43m(\u001B[49m\u001B[43mpath_to_logger\u001B[49m\u001B[43m,\u001B[49m\u001B[43m \u001B[49m\u001B[38;5;124;43m\"\u001B[39;49m\u001B[38;5;124;43mr\u001B[39;49m\u001B[38;5;124;43m\"\u001B[39;49m\u001B[43m)\u001B[49m \u001B[38;5;28;01mas\u001B[39;00m file:\n\u001B[1;32m     43\u001B[0m         text \u001B[38;5;241m=\u001B[39m file\u001B[38;5;241m.\u001B[39mreadlines()\n\u001B[1;32m     44\u001B[0m     df \u001B[38;5;241m=\u001B[39m parse_log(text)\n",
      "File \u001B[0;32m~/PycharmProjects/helloworld/venv/lib/python3.11/site-packages/IPython/core/interactiveshell.py:282\u001B[0m, in \u001B[0;36m_modified_open\u001B[0;34m(file, *args, **kwargs)\u001B[0m\n\u001B[1;32m    275\u001B[0m \u001B[38;5;28;01mif\u001B[39;00m file \u001B[38;5;129;01min\u001B[39;00m {\u001B[38;5;241m0\u001B[39m, \u001B[38;5;241m1\u001B[39m, \u001B[38;5;241m2\u001B[39m}:\n\u001B[1;32m    276\u001B[0m     \u001B[38;5;28;01mraise\u001B[39;00m \u001B[38;5;167;01mValueError\u001B[39;00m(\n\u001B[1;32m    277\u001B[0m         \u001B[38;5;124mf\u001B[39m\u001B[38;5;124m\"\u001B[39m\u001B[38;5;124mIPython won\u001B[39m\u001B[38;5;124m'\u001B[39m\u001B[38;5;124mt let you open fd=\u001B[39m\u001B[38;5;132;01m{\u001B[39;00mfile\u001B[38;5;132;01m}\u001B[39;00m\u001B[38;5;124m by default \u001B[39m\u001B[38;5;124m\"\u001B[39m\n\u001B[1;32m    278\u001B[0m         \u001B[38;5;124m\"\u001B[39m\u001B[38;5;124mas it is likely to crash IPython. If you know what you are doing, \u001B[39m\u001B[38;5;124m\"\u001B[39m\n\u001B[1;32m    279\u001B[0m         \u001B[38;5;124m\"\u001B[39m\u001B[38;5;124myou can use builtins\u001B[39m\u001B[38;5;124m'\u001B[39m\u001B[38;5;124m open.\u001B[39m\u001B[38;5;124m\"\u001B[39m\n\u001B[1;32m    280\u001B[0m     )\n\u001B[0;32m--> 282\u001B[0m \u001B[38;5;28;01mreturn\u001B[39;00m \u001B[43mio_open\u001B[49m\u001B[43m(\u001B[49m\u001B[43mfile\u001B[49m\u001B[43m,\u001B[49m\u001B[43m \u001B[49m\u001B[38;5;241;43m*\u001B[39;49m\u001B[43margs\u001B[49m\u001B[43m,\u001B[49m\u001B[43m \u001B[49m\u001B[38;5;241;43m*\u001B[39;49m\u001B[38;5;241;43m*\u001B[39;49m\u001B[43mkwargs\u001B[49m\u001B[43m)\u001B[49m\n",
      "\u001B[0;31mFileNotFoundError\u001B[0m: [Errno 2] No such file or directory: '/home/pavel/dev/university_homeworks/university_homeworks/sem1/Parallel_computing_and_software_models/logger0'"
     ]
    }
   ],
   "source": [
    "BASE_DIR = \"/home/pavel/dev/university_homeworks/university_homeworks/sem1/Parallel_computing_and_software_models/\"\n",
    "\n",
    "for i in range(0, 4):\n",
    "    main(BASE_DIR + f\"logger{i}\", BASE_DIR + f\"plots/plot{i}.png\")"
   ],
   "metadata": {
    "collapsed": false
   }
  },
  {
   "cell_type": "markdown",
   "source": [
    "Lab2"
   ],
   "metadata": {
    "collapsed": false
   }
  },
  {
   "cell_type": "code",
   "execution_count": 4,
   "outputs": [],
   "source": [
    "import pandas as pd\n",
    "import numpy as np\n",
    "import matplotlib.pyplot as plt\n",
    "from tqdm import tqdm\n",
    "import warnings\n",
    "warnings.filterwarnings('ignore')"
   ],
   "metadata": {
    "collapsed": false
   }
  },
  {
   "cell_type": "code",
   "execution_count": null,
   "outputs": [],
   "source": [
    "def parse_log(text: str) -> pd.DataFrame:\n",
    "    columns = [\"Size\", \"withoutParallel\", \"time1\"]\n",
    "    df = pd.DataFrame(columns=columns)\n",
    "\n",
    "    start = 0; end = 3\n",
    "    for i in tqdm(range(0,len(text),3)):\n",
    "        batch_data = []\n",
    "        for line in text[start + i: end + i]:\n",
    "            data = line.split(\" \")[2].strip()\n",
    "            batch_data.append(data)\n",
    "        tmp_df = pd.DataFrame([batch_data], columns=columns)\n",
    "        df = df.append(tmp_df, ignore_index=True)\n",
    "\n",
    "    df['time1'] = df['time1'].astype('float')\n",
    "    return df\n",
    "\n",
    "def moving_average(interval: list, windowsize: int):\n",
    "    window = np.ones(int(windowsize)) / float(windowsize)\n",
    "    new = np.convolve(interval, window, 'same')\n",
    "    return new\n",
    "\n",
    "def get_plot(\n",
    "    df: pd.DataFrame,\n",
    "    w: int = 30,\n",
    ") -> None:\n",
    "    \"\"\" get_plot() - function to draw graphics\"\"\"\n",
    "    fig = plt.figure(figsize=(15, 10), dpi=80)\n",
    "    ax = fig.add_subplot(1,1,1)\n",
    "\n",
    "    start_xtick = int(df['Size'].values[0])\n",
    "    end_xtick = int(df['Size'].values[-1])\n",
    "    step = 1\n",
    "\n",
    "    ax.plot(df['Size'], moving_average(df['time1'], w), label = \"withoutParallel\", linestyle=\"-\")\n",
    "    ax.plot(df['Size'], moving_average(df['time2'], w), label = \"OpenMP\", linestyle=\"-\")\n",
    "    ax.plot(df['Size'], moving_average(df['time3'], w), label = \"Posix\", linestyle=\"-\")\n",
    "    ax.set_xticks(np.arange(start_xtick, end_xtick, step=step))\n",
    "    ax.legend()\n",
    "    ax.set_title(\"Зависимость числа тактов при расчете длины разности векторов от длины вектора\")\n",
    "    ax.set_xlabel(\"Длина вектора\")\n",
    "    ax.set_ylabel(\"Число тактов (__rdtsc)\")\n",
    "    ax.grid()\n",
    "\n",
    "\n",
    "def main(path_to_logger0: str, path_to_logger1: str, path_to_logger2: str) -> None:\n",
    "    with open(path_to_logger0, \"r\") as file:\n",
    "        text0 = file.readlines()\n",
    "    df0 = parse_log(text0)\n",
    "\n",
    "    with open(path_to_logger1, \"r\") as file:\n",
    "        text1 = file.readlines()\n",
    "    df1 = parse_log(text1)\n",
    "    df1.rename(columns = {\n",
    "        'withoutParallel': 'OpenMP',\n",
    "        'time1': 'time2'\n",
    "    }, inplace=True)\n",
    "    df1.drop(['Size'], axis=1, inplace=True)\n",
    "\n",
    "    with open(path_to_logger2, \"r\") as file:\n",
    "        text2 = file.readlines()\n",
    "    df2 = parse_log(text2)\n",
    "    df2.rename(columns = {\n",
    "        'withoutParallel': 'Posix',\n",
    "        'time1': 'time3'\n",
    "    }, inplace=True)\n",
    "    df2.drop(['Size'], axis=1, inplace=True)\n",
    "\n",
    "    df = pd.concat([df0, df1, df2], axis=1)\n",
    "    get_plot(df=df)"
   ],
   "metadata": {
    "collapsed": false,
    "pycharm": {
     "is_executing": true
    }
   }
  },
  {
   "cell_type": "code",
   "execution_count": null,
   "outputs": [
    {
     "ename": "KeyboardInterrupt",
     "evalue": "",
     "output_type": "error",
     "traceback": [
      "\u001B[0;31m---------------------------------------------------------------------------\u001B[0m",
      "\u001B[0;31mKeyboardInterrupt\u001B[0m                         Traceback (most recent call last)",
      "Cell \u001B[0;32mIn [8], line 3\u001B[0m\n\u001B[1;32m      1\u001B[0m BASE_DIR \u001B[38;5;241m=\u001B[39m \u001B[38;5;124m\"\u001B[39m\u001B[38;5;124m/home/pavel/dev/university_homeworks/university_homeworks/sem1/Parallel_computing_and_software_models/Lab2/\u001B[39m\u001B[38;5;124m\"\u001B[39m\n\u001B[0;32m----> 3\u001B[0m \u001B[43mmain\u001B[49m\u001B[43m(\u001B[49m\u001B[43mBASE_DIR\u001B[49m\u001B[43m \u001B[49m\u001B[38;5;241;43m+\u001B[39;49m\u001B[43m \u001B[49m\u001B[38;5;124;43m\"\u001B[39;49m\u001B[38;5;124;43mlogger0\u001B[39;49m\u001B[38;5;124;43m\"\u001B[39;49m\u001B[43m,\u001B[49m\n\u001B[1;32m      4\u001B[0m \u001B[43m     \u001B[49m\u001B[43mBASE_DIR\u001B[49m\u001B[43m \u001B[49m\u001B[38;5;241;43m+\u001B[39;49m\u001B[43m \u001B[49m\u001B[38;5;124;43m\"\u001B[39;49m\u001B[38;5;124;43mlogger1\u001B[39;49m\u001B[38;5;124;43m\"\u001B[39;49m\u001B[43m,\u001B[49m\n\u001B[1;32m      5\u001B[0m \u001B[43m     \u001B[49m\u001B[43mBASE_DIR\u001B[49m\u001B[43m \u001B[49m\u001B[38;5;241;43m+\u001B[39;49m\u001B[43m \u001B[49m\u001B[38;5;124;43m\"\u001B[39;49m\u001B[38;5;124;43mlogger2\u001B[39;49m\u001B[38;5;124;43m\"\u001B[39;49m\n\u001B[1;32m      6\u001B[0m \u001B[43m     \u001B[49m\u001B[43m)\u001B[49m\n",
      "Cell \u001B[0;32mIn [7], line 69\u001B[0m, in \u001B[0;36mmain\u001B[0;34m(path_to_logger0, path_to_logger1, path_to_logger2)\u001B[0m\n\u001B[1;32m     66\u001B[0m df2\u001B[38;5;241m.\u001B[39mdrop([\u001B[38;5;124m'\u001B[39m\u001B[38;5;124mSize\u001B[39m\u001B[38;5;124m'\u001B[39m], axis\u001B[38;5;241m=\u001B[39m\u001B[38;5;241m1\u001B[39m, inplace\u001B[38;5;241m=\u001B[39m\u001B[38;5;28;01mTrue\u001B[39;00m)\n\u001B[1;32m     68\u001B[0m df \u001B[38;5;241m=\u001B[39m pd\u001B[38;5;241m.\u001B[39mconcat([df0, df1, df2], axis\u001B[38;5;241m=\u001B[39m\u001B[38;5;241m1\u001B[39m)\n\u001B[0;32m---> 69\u001B[0m \u001B[43mget_plot\u001B[49m\u001B[43m(\u001B[49m\u001B[43mdf\u001B[49m\u001B[38;5;241;43m=\u001B[39;49m\u001B[43mdf\u001B[49m\u001B[43m)\u001B[49m\n",
      "Cell \u001B[0;32mIn [7], line 37\u001B[0m, in \u001B[0;36mget_plot\u001B[0;34m(df, w)\u001B[0m\n\u001B[1;32m     35\u001B[0m ax\u001B[38;5;241m.\u001B[39mplot(df[\u001B[38;5;124m'\u001B[39m\u001B[38;5;124mSize\u001B[39m\u001B[38;5;124m'\u001B[39m], moving_average(df[\u001B[38;5;124m'\u001B[39m\u001B[38;5;124mtime2\u001B[39m\u001B[38;5;124m'\u001B[39m], w), label \u001B[38;5;241m=\u001B[39m \u001B[38;5;124m\"\u001B[39m\u001B[38;5;124mOpenMP\u001B[39m\u001B[38;5;124m\"\u001B[39m, linestyle\u001B[38;5;241m=\u001B[39m\u001B[38;5;124m\"\u001B[39m\u001B[38;5;124m-\u001B[39m\u001B[38;5;124m\"\u001B[39m)\n\u001B[1;32m     36\u001B[0m ax\u001B[38;5;241m.\u001B[39mplot(df[\u001B[38;5;124m'\u001B[39m\u001B[38;5;124mSize\u001B[39m\u001B[38;5;124m'\u001B[39m], moving_average(df[\u001B[38;5;124m'\u001B[39m\u001B[38;5;124mtime3\u001B[39m\u001B[38;5;124m'\u001B[39m], w), label \u001B[38;5;241m=\u001B[39m \u001B[38;5;124m\"\u001B[39m\u001B[38;5;124mPosix\u001B[39m\u001B[38;5;124m\"\u001B[39m, linestyle\u001B[38;5;241m=\u001B[39m\u001B[38;5;124m\"\u001B[39m\u001B[38;5;124m-\u001B[39m\u001B[38;5;124m\"\u001B[39m)\n\u001B[0;32m---> 37\u001B[0m \u001B[43max\u001B[49m\u001B[38;5;241;43m.\u001B[39;49m\u001B[43mset_xticks\u001B[49m\u001B[43m(\u001B[49m\u001B[43mnp\u001B[49m\u001B[38;5;241;43m.\u001B[39;49m\u001B[43marange\u001B[49m\u001B[43m(\u001B[49m\u001B[43mstart_xtick\u001B[49m\u001B[43m,\u001B[49m\u001B[43m \u001B[49m\u001B[43mend_xtick\u001B[49m\u001B[43m,\u001B[49m\u001B[43m \u001B[49m\u001B[43mstep\u001B[49m\u001B[38;5;241;43m=\u001B[39;49m\u001B[43mstep\u001B[49m\u001B[43m)\u001B[49m\u001B[43m)\u001B[49m\n\u001B[1;32m     38\u001B[0m ax\u001B[38;5;241m.\u001B[39mlegend()\n\u001B[1;32m     39\u001B[0m ax\u001B[38;5;241m.\u001B[39mset_title(\u001B[38;5;124m\"\u001B[39m\u001B[38;5;124mЗависимость числа тактов при расчете длины разности векторов от длины вектора\u001B[39m\u001B[38;5;124m\"\u001B[39m)\n",
      "File \u001B[0;32m~/PycharmProjects/helloworld/venv/lib64/python3.11/site-packages/matplotlib/axes/_base.py:73\u001B[0m, in \u001B[0;36m_axis_method_wrapper.__set_name__.<locals>.wrapper\u001B[0;34m(self, *args, **kwargs)\u001B[0m\n\u001B[1;32m     72\u001B[0m \u001B[38;5;28;01mdef\u001B[39;00m \u001B[38;5;21mwrapper\u001B[39m(\u001B[38;5;28mself\u001B[39m, \u001B[38;5;241m*\u001B[39margs, \u001B[38;5;241m*\u001B[39m\u001B[38;5;241m*\u001B[39mkwargs):\n\u001B[0;32m---> 73\u001B[0m     \u001B[38;5;28;01mreturn\u001B[39;00m \u001B[43mget_method\u001B[49m\u001B[43m(\u001B[49m\u001B[38;5;28;43mself\u001B[39;49m\u001B[43m)\u001B[49m\u001B[43m(\u001B[49m\u001B[38;5;241;43m*\u001B[39;49m\u001B[43margs\u001B[49m\u001B[43m,\u001B[49m\u001B[43m \u001B[49m\u001B[38;5;241;43m*\u001B[39;49m\u001B[38;5;241;43m*\u001B[39;49m\u001B[43mkwargs\u001B[49m\u001B[43m)\u001B[49m\n",
      "File \u001B[0;32m~/PycharmProjects/helloworld/venv/lib64/python3.11/site-packages/matplotlib/axis.py:2030\u001B[0m, in \u001B[0;36mAxis.set_ticks\u001B[0;34m(self, ticks, labels, minor, **kwargs)\u001B[0m\n\u001B[1;32m   1996\u001B[0m \u001B[38;5;28;01mdef\u001B[39;00m \u001B[38;5;21mset_ticks\u001B[39m(\u001B[38;5;28mself\u001B[39m, ticks, labels\u001B[38;5;241m=\u001B[39m\u001B[38;5;28;01mNone\u001B[39;00m, \u001B[38;5;241m*\u001B[39m, minor\u001B[38;5;241m=\u001B[39m\u001B[38;5;28;01mFalse\u001B[39;00m, \u001B[38;5;241m*\u001B[39m\u001B[38;5;241m*\u001B[39mkwargs):\n\u001B[1;32m   1997\u001B[0m     \u001B[38;5;124;03m\"\"\"\u001B[39;00m\n\u001B[1;32m   1998\u001B[0m \u001B[38;5;124;03m    Set this Axis' tick locations and optionally labels.\u001B[39;00m\n\u001B[1;32m   1999\u001B[0m \n\u001B[0;32m   (...)\u001B[0m\n\u001B[1;32m   2028\u001B[0m \u001B[38;5;124;03m    ticks.\u001B[39;00m\n\u001B[1;32m   2029\u001B[0m \u001B[38;5;124;03m    \"\"\"\u001B[39;00m\n\u001B[0;32m-> 2030\u001B[0m     result \u001B[38;5;241m=\u001B[39m \u001B[38;5;28;43mself\u001B[39;49m\u001B[38;5;241;43m.\u001B[39;49m\u001B[43m_set_tick_locations\u001B[49m\u001B[43m(\u001B[49m\u001B[43mticks\u001B[49m\u001B[43m,\u001B[49m\u001B[43m \u001B[49m\u001B[43mminor\u001B[49m\u001B[38;5;241;43m=\u001B[39;49m\u001B[43mminor\u001B[49m\u001B[43m)\u001B[49m\n\u001B[1;32m   2031\u001B[0m     \u001B[38;5;28;01mif\u001B[39;00m labels \u001B[38;5;129;01mis\u001B[39;00m \u001B[38;5;129;01mnot\u001B[39;00m \u001B[38;5;28;01mNone\u001B[39;00m:\n\u001B[1;32m   2032\u001B[0m         \u001B[38;5;28mself\u001B[39m\u001B[38;5;241m.\u001B[39mset_ticklabels(labels, minor\u001B[38;5;241m=\u001B[39mminor, \u001B[38;5;241m*\u001B[39m\u001B[38;5;241m*\u001B[39mkwargs)\n",
      "File \u001B[0;32m~/PycharmProjects/helloworld/venv/lib64/python3.11/site-packages/matplotlib/axis.py:1994\u001B[0m, in \u001B[0;36mAxis._set_tick_locations\u001B[0;34m(self, ticks, minor)\u001B[0m\n\u001B[1;32m   1992\u001B[0m \u001B[38;5;28;01melse\u001B[39;00m:\n\u001B[1;32m   1993\u001B[0m     \u001B[38;5;28mself\u001B[39m\u001B[38;5;241m.\u001B[39mset_major_locator(mticker\u001B[38;5;241m.\u001B[39mFixedLocator(ticks))\n\u001B[0;32m-> 1994\u001B[0m     \u001B[38;5;28;01mreturn\u001B[39;00m \u001B[38;5;28;43mself\u001B[39;49m\u001B[38;5;241;43m.\u001B[39;49m\u001B[43mget_major_ticks\u001B[49m\u001B[43m(\u001B[49m\u001B[38;5;28;43mlen\u001B[39;49m\u001B[43m(\u001B[49m\u001B[43mticks\u001B[49m\u001B[43m)\u001B[49m\u001B[43m)\u001B[49m\n",
      "File \u001B[0;32m~/PycharmProjects/helloworld/venv/lib64/python3.11/site-packages/matplotlib/axis.py:1536\u001B[0m, in \u001B[0;36mAxis.get_major_ticks\u001B[0;34m(self, numticks)\u001B[0m\n\u001B[1;32m   1534\u001B[0m     tick \u001B[38;5;241m=\u001B[39m \u001B[38;5;28mself\u001B[39m\u001B[38;5;241m.\u001B[39m_get_tick(major\u001B[38;5;241m=\u001B[39m\u001B[38;5;28;01mTrue\u001B[39;00m)\n\u001B[1;32m   1535\u001B[0m     \u001B[38;5;28mself\u001B[39m\u001B[38;5;241m.\u001B[39mmajorTicks\u001B[38;5;241m.\u001B[39mappend(tick)\n\u001B[0;32m-> 1536\u001B[0m     \u001B[38;5;28;43mself\u001B[39;49m\u001B[38;5;241;43m.\u001B[39;49m\u001B[43m_copy_tick_props\u001B[49m\u001B[43m(\u001B[49m\u001B[38;5;28;43mself\u001B[39;49m\u001B[38;5;241;43m.\u001B[39;49m\u001B[43mmajorTicks\u001B[49m\u001B[43m[\u001B[49m\u001B[38;5;241;43m0\u001B[39;49m\u001B[43m]\u001B[49m\u001B[43m,\u001B[49m\u001B[43m \u001B[49m\u001B[43mtick\u001B[49m\u001B[43m)\u001B[49m\n\u001B[1;32m   1538\u001B[0m \u001B[38;5;28;01mreturn\u001B[39;00m \u001B[38;5;28mself\u001B[39m\u001B[38;5;241m.\u001B[39mmajorTicks[:numticks]\n",
      "File \u001B[0;32m~/PycharmProjects/helloworld/venv/lib64/python3.11/site-packages/matplotlib/axis.py:1503\u001B[0m, in \u001B[0;36mAxis._copy_tick_props\u001B[0;34m(self, src, dest)\u001B[0m\n\u001B[1;32m   1501\u001B[0m dest\u001B[38;5;241m.\u001B[39mlabel1\u001B[38;5;241m.\u001B[39mupdate_from(src\u001B[38;5;241m.\u001B[39mlabel1)\n\u001B[1;32m   1502\u001B[0m dest\u001B[38;5;241m.\u001B[39mlabel2\u001B[38;5;241m.\u001B[39mupdate_from(src\u001B[38;5;241m.\u001B[39mlabel2)\n\u001B[0;32m-> 1503\u001B[0m \u001B[43mdest\u001B[49m\u001B[38;5;241;43m.\u001B[39;49m\u001B[43mtick1line\u001B[49m\u001B[38;5;241;43m.\u001B[39;49m\u001B[43mupdate_from\u001B[49m\u001B[43m(\u001B[49m\u001B[43msrc\u001B[49m\u001B[38;5;241;43m.\u001B[39;49m\u001B[43mtick1line\u001B[49m\u001B[43m)\u001B[49m\n\u001B[1;32m   1504\u001B[0m dest\u001B[38;5;241m.\u001B[39mtick2line\u001B[38;5;241m.\u001B[39mupdate_from(src\u001B[38;5;241m.\u001B[39mtick2line)\n\u001B[1;32m   1505\u001B[0m dest\u001B[38;5;241m.\u001B[39mgridline\u001B[38;5;241m.\u001B[39mupdate_from(src\u001B[38;5;241m.\u001B[39mgridline)\n",
      "File \u001B[0;32m~/PycharmProjects/helloworld/venv/lib64/python3.11/site-packages/matplotlib/lines.py:1339\u001B[0m, in \u001B[0;36mLine2D.update_from\u001B[0;34m(self, other)\u001B[0m\n\u001B[1;32m   1336\u001B[0m \u001B[38;5;28mself\u001B[39m\u001B[38;5;241m.\u001B[39m_solidjoinstyle \u001B[38;5;241m=\u001B[39m other\u001B[38;5;241m.\u001B[39m_solidjoinstyle\n\u001B[1;32m   1338\u001B[0m \u001B[38;5;28mself\u001B[39m\u001B[38;5;241m.\u001B[39m_linestyle \u001B[38;5;241m=\u001B[39m other\u001B[38;5;241m.\u001B[39m_linestyle\n\u001B[0;32m-> 1339\u001B[0m \u001B[38;5;28mself\u001B[39m\u001B[38;5;241m.\u001B[39m_marker \u001B[38;5;241m=\u001B[39m \u001B[43mMarkerStyle\u001B[49m\u001B[43m(\u001B[49m\u001B[43mmarker\u001B[49m\u001B[38;5;241;43m=\u001B[39;49m\u001B[43mother\u001B[49m\u001B[38;5;241;43m.\u001B[39;49m\u001B[43m_marker\u001B[49m\u001B[43m)\u001B[49m\n\u001B[1;32m   1340\u001B[0m \u001B[38;5;28mself\u001B[39m\u001B[38;5;241m.\u001B[39m_drawstyle \u001B[38;5;241m=\u001B[39m other\u001B[38;5;241m.\u001B[39m_drawstyle\n",
      "File \u001B[0;32m~/PycharmProjects/helloworld/venv/lib64/python3.11/site-packages/matplotlib/markers.py:272\u001B[0m, in \u001B[0;36mMarkerStyle.__init__\u001B[0;34m(self, marker, fillstyle, transform, capstyle, joinstyle)\u001B[0m\n\u001B[1;32m    267\u001B[0m     marker \u001B[38;5;241m=\u001B[39m \u001B[38;5;124m\"\u001B[39m\u001B[38;5;124m\"\u001B[39m\n\u001B[1;32m    268\u001B[0m     _api\u001B[38;5;241m.\u001B[39mwarn_deprecated(\n\u001B[1;32m    269\u001B[0m         \u001B[38;5;124m\"\u001B[39m\u001B[38;5;124m3.6\u001B[39m\u001B[38;5;124m\"\u001B[39m, message\u001B[38;5;241m=\u001B[39m\u001B[38;5;124m\"\u001B[39m\u001B[38;5;124mMarkerStyle(None) is deprecated since \u001B[39m\u001B[38;5;124m\"\u001B[39m\n\u001B[1;32m    270\u001B[0m         \u001B[38;5;124m\"\u001B[39m\u001B[38;5;132;01m%(since)s\u001B[39;00m\u001B[38;5;124m; support will be removed \u001B[39m\u001B[38;5;132;01m%(removal)s\u001B[39;00m\u001B[38;5;124m.  Use \u001B[39m\u001B[38;5;124m\"\u001B[39m\n\u001B[1;32m    271\u001B[0m         \u001B[38;5;124m\"\u001B[39m\u001B[38;5;124mMarkerStyle(\u001B[39m\u001B[38;5;124m'\u001B[39m\u001B[38;5;124m'\u001B[39m\u001B[38;5;124m) to construct an empty MarkerStyle.\u001B[39m\u001B[38;5;124m\"\u001B[39m)\n\u001B[0;32m--> 272\u001B[0m \u001B[38;5;28;43mself\u001B[39;49m\u001B[38;5;241;43m.\u001B[39;49m\u001B[43m_set_marker\u001B[49m\u001B[43m(\u001B[49m\u001B[43mmarker\u001B[49m\u001B[43m)\u001B[49m\n",
      "File \u001B[0;32m~/PycharmProjects/helloworld/venv/lib64/python3.11/site-packages/matplotlib/markers.py:355\u001B[0m, in \u001B[0;36mMarkerStyle._set_marker\u001B[0;34m(self, marker)\u001B[0m\n\u001B[1;32m    352\u001B[0m     \u001B[38;5;28mself\u001B[39m\u001B[38;5;241m.\u001B[39m_marker_function \u001B[38;5;241m=\u001B[39m \u001B[38;5;28mgetattr\u001B[39m(\n\u001B[1;32m    353\u001B[0m         \u001B[38;5;28mself\u001B[39m, \u001B[38;5;124m'\u001B[39m\u001B[38;5;124m_set_\u001B[39m\u001B[38;5;124m'\u001B[39m \u001B[38;5;241m+\u001B[39m \u001B[38;5;28mself\u001B[39m\u001B[38;5;241m.\u001B[39mmarkers[marker])\n\u001B[1;32m    354\u001B[0m \u001B[38;5;28;01melif\u001B[39;00m \u001B[38;5;28misinstance\u001B[39m(marker, MarkerStyle):\n\u001B[0;32m--> 355\u001B[0m     \u001B[38;5;28mself\u001B[39m\u001B[38;5;241m.\u001B[39m\u001B[38;5;18m__dict__\u001B[39m \u001B[38;5;241m=\u001B[39m \u001B[43mcopy\u001B[49m\u001B[38;5;241;43m.\u001B[39;49m\u001B[43mdeepcopy\u001B[49m\u001B[43m(\u001B[49m\u001B[43mmarker\u001B[49m\u001B[38;5;241;43m.\u001B[39;49m\u001B[38;5;18;43m__dict__\u001B[39;49m\u001B[43m)\u001B[49m\n\u001B[1;32m    357\u001B[0m \u001B[38;5;28;01melse\u001B[39;00m:\n\u001B[1;32m    358\u001B[0m     \u001B[38;5;28;01mtry\u001B[39;00m:\n",
      "File \u001B[0;32m/usr/lib64/python3.11/copy.py:146\u001B[0m, in \u001B[0;36mdeepcopy\u001B[0;34m(x, memo, _nil)\u001B[0m\n\u001B[1;32m    144\u001B[0m copier \u001B[38;5;241m=\u001B[39m _deepcopy_dispatch\u001B[38;5;241m.\u001B[39mget(\u001B[38;5;28mcls\u001B[39m)\n\u001B[1;32m    145\u001B[0m \u001B[38;5;28;01mif\u001B[39;00m copier \u001B[38;5;129;01mis\u001B[39;00m \u001B[38;5;129;01mnot\u001B[39;00m \u001B[38;5;28;01mNone\u001B[39;00m:\n\u001B[0;32m--> 146\u001B[0m     y \u001B[38;5;241m=\u001B[39m \u001B[43mcopier\u001B[49m\u001B[43m(\u001B[49m\u001B[43mx\u001B[49m\u001B[43m,\u001B[49m\u001B[43m \u001B[49m\u001B[43mmemo\u001B[49m\u001B[43m)\u001B[49m\n\u001B[1;32m    147\u001B[0m \u001B[38;5;28;01melse\u001B[39;00m:\n\u001B[1;32m    148\u001B[0m     \u001B[38;5;28;01mif\u001B[39;00m \u001B[38;5;28missubclass\u001B[39m(\u001B[38;5;28mcls\u001B[39m, \u001B[38;5;28mtype\u001B[39m):\n",
      "File \u001B[0;32m/usr/lib64/python3.11/copy.py:231\u001B[0m, in \u001B[0;36m_deepcopy_dict\u001B[0;34m(x, memo, deepcopy)\u001B[0m\n\u001B[1;32m    229\u001B[0m memo[\u001B[38;5;28mid\u001B[39m(x)] \u001B[38;5;241m=\u001B[39m y\n\u001B[1;32m    230\u001B[0m \u001B[38;5;28;01mfor\u001B[39;00m key, value \u001B[38;5;129;01min\u001B[39;00m x\u001B[38;5;241m.\u001B[39mitems():\n\u001B[0;32m--> 231\u001B[0m     y[deepcopy(key, memo)] \u001B[38;5;241m=\u001B[39m \u001B[43mdeepcopy\u001B[49m\u001B[43m(\u001B[49m\u001B[43mvalue\u001B[49m\u001B[43m,\u001B[49m\u001B[43m \u001B[49m\u001B[43mmemo\u001B[49m\u001B[43m)\u001B[49m\n\u001B[1;32m    232\u001B[0m \u001B[38;5;28;01mreturn\u001B[39;00m y\n",
      "File \u001B[0;32m/usr/lib64/python3.11/copy.py:153\u001B[0m, in \u001B[0;36mdeepcopy\u001B[0;34m(x, memo, _nil)\u001B[0m\n\u001B[1;32m    151\u001B[0m copier \u001B[38;5;241m=\u001B[39m \u001B[38;5;28mgetattr\u001B[39m(x, \u001B[38;5;124m\"\u001B[39m\u001B[38;5;124m__deepcopy__\u001B[39m\u001B[38;5;124m\"\u001B[39m, \u001B[38;5;28;01mNone\u001B[39;00m)\n\u001B[1;32m    152\u001B[0m \u001B[38;5;28;01mif\u001B[39;00m copier \u001B[38;5;129;01mis\u001B[39;00m \u001B[38;5;129;01mnot\u001B[39;00m \u001B[38;5;28;01mNone\u001B[39;00m:\n\u001B[0;32m--> 153\u001B[0m     y \u001B[38;5;241m=\u001B[39m \u001B[43mcopier\u001B[49m\u001B[43m(\u001B[49m\u001B[43mmemo\u001B[49m\u001B[43m)\u001B[49m\n\u001B[1;32m    154\u001B[0m \u001B[38;5;28;01melse\u001B[39;00m:\n\u001B[1;32m    155\u001B[0m     reductor \u001B[38;5;241m=\u001B[39m dispatch_table\u001B[38;5;241m.\u001B[39mget(\u001B[38;5;28mcls\u001B[39m)\n",
      "File \u001B[0;32m~/PycharmProjects/helloworld/venv/lib64/python3.11/site-packages/matplotlib/path.py:287\u001B[0m, in \u001B[0;36mPath.__deepcopy__\u001B[0;34m(self, memo)\u001B[0m\n\u001B[1;32m    282\u001B[0m \u001B[38;5;124;03m\"\"\"\u001B[39;00m\n\u001B[1;32m    283\u001B[0m \u001B[38;5;124;03mReturn a deepcopy of the `Path`.  The `Path` will not be\u001B[39;00m\n\u001B[1;32m    284\u001B[0m \u001B[38;5;124;03mreadonly, even if the source `Path` is.\u001B[39;00m\n\u001B[1;32m    285\u001B[0m \u001B[38;5;124;03m\"\"\"\u001B[39;00m\n\u001B[1;32m    286\u001B[0m \u001B[38;5;66;03m# Deepcopying arrays (vertices, codes) strips the writeable=False flag.\u001B[39;00m\n\u001B[0;32m--> 287\u001B[0m p \u001B[38;5;241m=\u001B[39m \u001B[43mcopy\u001B[49m\u001B[38;5;241;43m.\u001B[39;49m\u001B[43mdeepcopy\u001B[49m\u001B[43m(\u001B[49m\u001B[38;5;28;43msuper\u001B[39;49m\u001B[43m(\u001B[49m\u001B[43m)\u001B[49m\u001B[43m,\u001B[49m\u001B[43m \u001B[49m\u001B[43mmemo\u001B[49m\u001B[43m)\u001B[49m\n\u001B[1;32m    288\u001B[0m p\u001B[38;5;241m.\u001B[39m_readonly \u001B[38;5;241m=\u001B[39m \u001B[38;5;28;01mFalse\u001B[39;00m\n\u001B[1;32m    289\u001B[0m \u001B[38;5;28;01mreturn\u001B[39;00m p\n",
      "File \u001B[0;32m/usr/lib64/python3.11/copy.py:172\u001B[0m, in \u001B[0;36mdeepcopy\u001B[0;34m(x, memo, _nil)\u001B[0m\n\u001B[1;32m    170\u001B[0m                 y \u001B[38;5;241m=\u001B[39m x\n\u001B[1;32m    171\u001B[0m             \u001B[38;5;28;01melse\u001B[39;00m:\n\u001B[0;32m--> 172\u001B[0m                 y \u001B[38;5;241m=\u001B[39m \u001B[43m_reconstruct\u001B[49m\u001B[43m(\u001B[49m\u001B[43mx\u001B[49m\u001B[43m,\u001B[49m\u001B[43m \u001B[49m\u001B[43mmemo\u001B[49m\u001B[43m,\u001B[49m\u001B[43m \u001B[49m\u001B[38;5;241;43m*\u001B[39;49m\u001B[43mrv\u001B[49m\u001B[43m)\u001B[49m\n\u001B[1;32m    174\u001B[0m \u001B[38;5;66;03m# If is its own copy, don't memoize.\u001B[39;00m\n\u001B[1;32m    175\u001B[0m \u001B[38;5;28;01mif\u001B[39;00m y \u001B[38;5;129;01mis\u001B[39;00m \u001B[38;5;129;01mnot\u001B[39;00m x:\n",
      "File \u001B[0;32m/usr/lib64/python3.11/copy.py:271\u001B[0m, in \u001B[0;36m_reconstruct\u001B[0;34m(x, memo, func, args, state, listiter, dictiter, deepcopy)\u001B[0m\n\u001B[1;32m    269\u001B[0m \u001B[38;5;28;01mif\u001B[39;00m state \u001B[38;5;129;01mis\u001B[39;00m \u001B[38;5;129;01mnot\u001B[39;00m \u001B[38;5;28;01mNone\u001B[39;00m:\n\u001B[1;32m    270\u001B[0m     \u001B[38;5;28;01mif\u001B[39;00m deep:\n\u001B[0;32m--> 271\u001B[0m         state \u001B[38;5;241m=\u001B[39m \u001B[43mdeepcopy\u001B[49m\u001B[43m(\u001B[49m\u001B[43mstate\u001B[49m\u001B[43m,\u001B[49m\u001B[43m \u001B[49m\u001B[43mmemo\u001B[49m\u001B[43m)\u001B[49m\n\u001B[1;32m    272\u001B[0m     \u001B[38;5;28;01mif\u001B[39;00m \u001B[38;5;28mhasattr\u001B[39m(y, \u001B[38;5;124m'\u001B[39m\u001B[38;5;124m__setstate__\u001B[39m\u001B[38;5;124m'\u001B[39m):\n\u001B[1;32m    273\u001B[0m         y\u001B[38;5;241m.\u001B[39m__setstate__(state)\n",
      "File \u001B[0;32m/usr/lib64/python3.11/copy.py:146\u001B[0m, in \u001B[0;36mdeepcopy\u001B[0;34m(x, memo, _nil)\u001B[0m\n\u001B[1;32m    144\u001B[0m copier \u001B[38;5;241m=\u001B[39m _deepcopy_dispatch\u001B[38;5;241m.\u001B[39mget(\u001B[38;5;28mcls\u001B[39m)\n\u001B[1;32m    145\u001B[0m \u001B[38;5;28;01mif\u001B[39;00m copier \u001B[38;5;129;01mis\u001B[39;00m \u001B[38;5;129;01mnot\u001B[39;00m \u001B[38;5;28;01mNone\u001B[39;00m:\n\u001B[0;32m--> 146\u001B[0m     y \u001B[38;5;241m=\u001B[39m \u001B[43mcopier\u001B[49m\u001B[43m(\u001B[49m\u001B[43mx\u001B[49m\u001B[43m,\u001B[49m\u001B[43m \u001B[49m\u001B[43mmemo\u001B[49m\u001B[43m)\u001B[49m\n\u001B[1;32m    147\u001B[0m \u001B[38;5;28;01melse\u001B[39;00m:\n\u001B[1;32m    148\u001B[0m     \u001B[38;5;28;01mif\u001B[39;00m \u001B[38;5;28missubclass\u001B[39m(\u001B[38;5;28mcls\u001B[39m, \u001B[38;5;28mtype\u001B[39m):\n",
      "File \u001B[0;32m/usr/lib64/python3.11/copy.py:230\u001B[0m, in \u001B[0;36m_deepcopy_dict\u001B[0;34m(x, memo, deepcopy)\u001B[0m\n\u001B[1;32m    228\u001B[0m y \u001B[38;5;241m=\u001B[39m {}\n\u001B[1;32m    229\u001B[0m memo[\u001B[38;5;28mid\u001B[39m(x)] \u001B[38;5;241m=\u001B[39m y\n\u001B[0;32m--> 230\u001B[0m \u001B[38;5;28;01mfor\u001B[39;00m key, value \u001B[38;5;129;01min\u001B[39;00m x\u001B[38;5;241m.\u001B[39mitems():\n\u001B[1;32m    231\u001B[0m     y[deepcopy(key, memo)] \u001B[38;5;241m=\u001B[39m deepcopy(value, memo)\n\u001B[1;32m    232\u001B[0m \u001B[38;5;28;01mreturn\u001B[39;00m y\n",
      "\u001B[0;31mKeyboardInterrupt\u001B[0m: "
     ]
    }
   ],
   "source": [
    "BASE_DIR = \"/home/pavel/dev/university_homeworks/university_homeworks/sem1/Parallel_computing_and_software_models/Lab2/\"\n",
    "\n",
    "main(BASE_DIR + \"logger0\",\n",
    "     BASE_DIR + \"logger1\",\n",
    "     BASE_DIR + \"logger2\"\n",
    "     )"
   ],
   "metadata": {
    "collapsed": false,
    "pycharm": {
     "is_executing": true
    }
   }
  },
  {
   "cell_type": "code",
   "execution_count": null,
   "outputs": [],
   "source": [],
   "metadata": {
    "collapsed": false
   }
  },
  {
   "cell_type": "code",
   "execution_count": null,
   "outputs": [],
   "source": [],
   "metadata": {
    "collapsed": false
   }
  }
 ],
 "metadata": {
  "kernelspec": {
   "display_name": "Python 3",
   "language": "python",
   "name": "python3"
  },
  "language_info": {
   "codemirror_mode": {
    "name": "ipython",
    "version": 3
   },
   "file_extension": ".py",
   "mimetype": "text/x-python",
   "name": "python",
   "nbconvert_exporter": "python",
   "pygments_lexer": "ipython3",
   "version": "3.8.8"
  }
 },
 "nbformat": 4,
 "nbformat_minor": 5
}
